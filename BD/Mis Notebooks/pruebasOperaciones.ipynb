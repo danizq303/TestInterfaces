{
 "cells": [
  {
   "cell_type": "code",
   "execution_count": 11,
   "id": "8b61dc9a",
   "metadata": {},
   "outputs": [
    {
     "name": "stdout",
     "output_type": "stream",
     "text": [
      "[0 1 2 3 4]\n",
      "[0 2 4]\n",
      "[10 20 30 15 50]\n",
      "[10 21 32 18 54]\n",
      "(array([4], dtype=int64),)\n",
      "Los numeros mayores que 30 del array y son: [50]\n",
      "[  0  20  60  45 200]\n"
     ]
    }
   ],
   "source": [
    "import numpy as np\n",
    "array = np.arange(5)\n",
    "print(array)\n",
    "print(array[array%2 == 0])\n",
    "\n",
    "y = np.array([10,20,30,15,50])\n",
    "\n",
    "print(y)\n",
    "\n",
    "print(y+array)\n",
    "\n",
    "z = np.where(y > 30)\n",
    "\n",
    "print(z)\n",
    "\n",
    "print(f\"Los numeros mayores que 30 del array y son: {y[z]}\")\n",
    "\n",
    "aMult = np.multiply(array,y)\n",
    "\n",
    "print(aMult)"
   ]
  }
 ],
 "metadata": {
  "kernelspec": {
   "display_name": "Python 3 (ipykernel)",
   "language": "python",
   "name": "python3"
  },
  "language_info": {
   "codemirror_mode": {
    "name": "ipython",
    "version": 3
   },
   "file_extension": ".py",
   "mimetype": "text/x-python",
   "name": "python",
   "nbconvert_exporter": "python",
   "pygments_lexer": "ipython3",
   "version": "3.9.12"
  }
 },
 "nbformat": 4,
 "nbformat_minor": 5
}
