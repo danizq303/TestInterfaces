{
 "cells": [
  {
   "cell_type": "code",
   "execution_count": 1,
   "id": "4ec079b8",
   "metadata": {},
   "outputs": [],
   "source": [
    "import numpy as np"
   ]
  },
  {
   "cell_type": "code",
   "execution_count": 2,
   "id": "bfaf0d8e",
   "metadata": {},
   "outputs": [],
   "source": [
    "data = np.genfromtxt(\".\\\\cars2.csv\",delimiter=',',dtype=None,names=True,encoding='utf-8')"
   ]
  },
  {
   "cell_type": "code",
   "execution_count": 3,
   "id": "c9ef91d5",
   "metadata": {},
   "outputs": [
    {
     "data": {
      "text/plain": [
       "('Car', 'Model', 'Volume', 'Weight', 'CO2')"
      ]
     },
     "execution_count": 3,
     "metadata": {},
     "output_type": "execute_result"
    }
   ],
   "source": [
    "data.dtype.names\n"
   ]
  },
  {
   "cell_type": "code",
   "execution_count": 4,
   "id": "1f511efb",
   "metadata": {},
   "outputs": [
    {
     "data": {
      "text/plain": [
       "36"
      ]
     },
     "execution_count": 4,
     "metadata": {},
     "output_type": "execute_result"
    }
   ],
   "source": [
    "data['Car'].size"
   ]
  },
  {
   "cell_type": "code",
   "execution_count": 5,
   "id": "5bde147d",
   "metadata": {},
   "outputs": [
    {
     "data": {
      "text/plain": [
       "array(['Toyoty', 'Mitsubishi', 'Skoda', 'Fiat', 'Mini', 'VW', 'Skoda',\n",
       "       'Mercedes', 'Ford', 'Audi', 'Hyundai', 'Suzuki', 'Ford', 'Honda',\n",
       "       'Hundai', 'Opel', 'BMW', 'Mazda', 'Skoda', 'Ford', 'Ford', 'Opel',\n",
       "       'Mercedes', 'Skoda', 'Volvo', 'Mercedes', 'Audi', 'Audi', 'Volvo',\n",
       "       'BMW', 'Mercedes', 'Volvo', 'Ford', 'BMW', 'Opel', 'Mercedes'],\n",
       "      dtype='<U10')"
      ]
     },
     "execution_count": 5,
     "metadata": {},
     "output_type": "execute_result"
    }
   ],
   "source": [
    "data['Car']"
   ]
  },
  {
   "cell_type": "code",
   "execution_count": 6,
   "id": "d11590a8",
   "metadata": {},
   "outputs": [
    {
     "data": {
      "text/plain": [
       "array(['A-Class', 'C-Class', 'CLA', 'E-Class', 'SLK'], dtype='<U10')"
      ]
     },
     "execution_count": 6,
     "metadata": {},
     "output_type": "execute_result"
    }
   ],
   "source": [
    "#Mostrar los modelos de la marca \"Mercedes\"\n",
    "coches = data['Car']\n",
    "mercedes = np.where(coches=='Mercedes')\n",
    "modelos = data['Model']\n",
    "modelos[mercedes]"
   ]
  },
  {
   "cell_type": "code",
   "execution_count": 7,
   "id": "e8dcafbe",
   "metadata": {},
   "outputs": [
    {
     "name": "stdout",
     "output_type": "stream",
     "text": [
      "[1.5 2.1 1.5 2.1 2.5]\n"
     ]
    },
    {
     "data": {
      "text/plain": [
       "array(['C-Class', 'E-Class', 'SLK'], dtype='<U10')"
      ]
     },
     "execution_count": 7,
     "metadata": {},
     "output_type": "execute_result"
    }
   ],
   "source": [
    "volumen = data['Volume']\n",
    "#volumen de los coches mercedes\n",
    "print(volumen[mercedes])\n",
    "mod = modelos[mercedes]\n",
    "#Modelos de coches de la marca Mercedes dónde el volumen es >= 2.1\n",
    "mod[np.where(volumen[mercedes]>=2.1)]\n"
   ]
  },
  {
   "cell_type": "code",
   "execution_count": 25,
   "id": "0361da21",
   "metadata": {},
   "outputs": [
    {
     "name": "stdout",
     "output_type": "stream",
     "text": [
      "[1365 1365 1465 1605 1395]\n",
      "(array([1, 3, 4], dtype=int64),)\n",
      "['A-Class' 'C-Class' 'CLA' 'SLK']\n",
      "['A-Class' 'CLA']\n"
     ]
    }
   ],
   "source": [
    "#Modelos de coches de la marca Mercedes dónde el volumen es >= 2.1 y su peso sea < 1500\n",
    "\n",
    "peso = data['Weight']\n",
    "print(peso[mercedes])\n",
    "peso_mercedes = peso[mercedes]\n",
    "print(np.where(volumen[mercedes]>=2.1))\n",
    "vol = np.where(volumen[mercedes]>=2.1)\n",
    "#peso_mod_vol = np.where(np.array(peso_mercedes[vol])<1500)\n",
    "peso_mod_vol = np.where(peso_mercedes<1500)\n",
    "print()\n",
    "print(mod[np.where(peso_mercedes<1500)])\n",
    "print(mod[peso_mod_vol])\n",
    "\n",
    "\n",
    "\n"
   ]
  },
  {
   "cell_type": "code",
   "execution_count": 20,
   "id": "070f9d29",
   "metadata": {},
   "outputs": [
    {
     "name": "stdout",
     "output_type": "stream",
     "text": [
      "['Fiesta' 'Fiesta' 'Focus' 'Mondeo' 'B-Max']\n"
     ]
    }
   ],
   "source": [
    "ford = np.where(coches=='Ford')\n",
    "ford\n",
    "mod_ford = modelos[ford]\n",
    "print(mod_ford)"
   ]
  },
  {
   "cell_type": "code",
   "execution_count": null,
   "id": "c957d917",
   "metadata": {},
   "outputs": [],
   "source": []
  }
 ],
 "metadata": {
  "kernelspec": {
   "display_name": "Python 3 (ipykernel)",
   "language": "python",
   "name": "python3"
  },
  "language_info": {
   "codemirror_mode": {
    "name": "ipython",
    "version": 3
   },
   "file_extension": ".py",
   "mimetype": "text/x-python",
   "name": "python",
   "nbconvert_exporter": "python",
   "pygments_lexer": "ipython3",
   "version": "3.9.12"
  }
 },
 "nbformat": 4,
 "nbformat_minor": 5
}
