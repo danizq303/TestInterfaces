{
 "cells": [
  {
   "cell_type": "code",
   "execution_count": 1,
   "id": "4ec079b8",
   "metadata": {},
   "outputs": [],
   "source": [
    "import numpy as np"
   ]
  },
  {
   "cell_type": "code",
   "execution_count": 2,
   "id": "bfaf0d8e",
   "metadata": {},
   "outputs": [],
   "source": [
    "data = np.genfromtxt(\".\\\\cars2.csv\",delimiter=',',dtype=None,names=True,encoding='utf-8')"
   ]
  },
  {
   "cell_type": "code",
   "execution_count": 3,
   "id": "c9ef91d5",
   "metadata": {},
   "outputs": [
    {
     "data": {
      "text/plain": [
       "('Car', 'Model', 'Volume', 'Weight', 'CO2')"
      ]
     },
     "execution_count": 3,
     "metadata": {},
     "output_type": "execute_result"
    }
   ],
   "source": [
    "data.dtype.names\n"
   ]
  },
  {
   "cell_type": "code",
   "execution_count": 4,
   "id": "1f511efb",
   "metadata": {},
   "outputs": [
    {
     "data": {
      "text/plain": [
       "36"
      ]
     },
     "execution_count": 4,
     "metadata": {},
     "output_type": "execute_result"
    }
   ],
   "source": [
    "data['Car'].size"
   ]
  },
  {
   "cell_type": "code",
   "execution_count": 5,
   "id": "5bde147d",
   "metadata": {},
   "outputs": [
    {
     "data": {
      "text/plain": [
       "array(['Toyoty', 'Mitsubishi', 'Skoda', 'Fiat', 'Mini', 'VW', 'Skoda',\n",
       "       'Mercedes', 'Ford', 'Audi', 'Hyundai', 'Suzuki', 'Ford', 'Honda',\n",
       "       'Hundai', 'Opel', 'BMW', 'Mazda', 'Skoda', 'Ford', 'Ford', 'Opel',\n",
       "       'Mercedes', 'Skoda', 'Volvo', 'Mercedes', 'Audi', 'Audi', 'Volvo',\n",
       "       'BMW', 'Mercedes', 'Volvo', 'Ford', 'BMW', 'Opel', 'Mercedes'],\n",
       "      dtype='<U10')"
      ]
     },
     "execution_count": 5,
     "metadata": {},
     "output_type": "execute_result"
    }
   ],
   "source": [
    "data['Car']"
   ]
  },
  {
   "cell_type": "code",
   "execution_count": 6,
   "id": "d11590a8",
   "metadata": {},
   "outputs": [
    {
     "data": {
      "text/plain": [
       "array(['A-Class', 'C-Class', 'CLA', 'E-Class', 'SLK'], dtype='<U10')"
      ]
     },
     "execution_count": 6,
     "metadata": {},
     "output_type": "execute_result"
    }
   ],
   "source": [
    "#Mostrar los modelos de la marca \"Mercedes\"\n",
    "coches = data['Car']\n",
    "mercedes = np.where(coches=='Mercedes')\n",
    "modelos = data['Model']\n",
    "modelos[mercedes]"
   ]
  },
  {
   "cell_type": "code",
   "execution_count": 7,
   "id": "e8dcafbe",
   "metadata": {},
   "outputs": [
    {
     "name": "stdout",
     "output_type": "stream",
     "text": [
      "[1.5 2.1 1.5 2.1 2.5]\n"
     ]
    },
    {
     "data": {
      "text/plain": [
       "array(['C-Class', 'E-Class', 'SLK'], dtype='<U10')"
      ]
     },
     "execution_count": 7,
     "metadata": {},
     "output_type": "execute_result"
    }
   ],
   "source": [
    "volumen = data['Volume']\n",
    "#volumen de los coches mercedes\n",
    "print(volumen[mercedes])\n",
    "mod = modelos[mercedes]\n",
    "#Modelos de coches de la marca Mercedes dónde el volumen es >= 2.1\n",
    "mod[np.where(volumen[mercedes]>=2.1)]\n"
   ]
  },
  {
   "cell_type": "code",
   "execution_count": 8,
   "id": "0361da21",
   "metadata": {},
   "outputs": [
    {
     "name": "stdout",
     "output_type": "stream",
     "text": [
      "Modelos de Mercedes con volumen >=2.1\n",
      "\n",
      "['C-Class' 'E-Class' 'SLK']\n",
      "Pesos de coches Mercedes con volumen >=2.1\n",
      "\n",
      "[1365 1605 1395]\n",
      "Índices de los pesos menores de 1500 en modelos Mercedes con volumen >=2.1\n",
      "(array([0, 2], dtype=int64),)\n"
     ]
    },
    {
     "data": {
      "text/plain": [
       "array(['C-Class', 'SLK'], dtype='<U10')"
      ]
     },
     "execution_count": 8,
     "metadata": {},
     "output_type": "execute_result"
    }
   ],
   "source": [
    "#Modelos de coches de la marca Mercedes dónde el volumen es >= 2.1 y su peso sea < 1500\n",
    "\n",
    "vol = np.where(volumen[mercedes]>=2.1)\n",
    "print(\"Modelos de Mercedes con volumen >=2.1\\n\")\n",
    "print(mod[vol])\n",
    "mod_vol = mod[vol]\n",
    "\n",
    "peso = data['Weight']\n",
    "peso_mercedes = peso[mercedes]\n",
    "peso_mercedes_vol = peso_mercedes[vol]\n",
    "print(\"Pesos de coches Mercedes con volumen >=2.1\\n\")\n",
    "print(peso_mercedes_vol)\n",
    "\n",
    "peso_mod_vol = np.where(peso_mercedes_vol<1500)\n",
    "print(\"Índices de los pesos menores de 1500 en modelos Mercedes con volumen >=2.1\")\n",
    "print(peso_mod_vol)\n",
    "mod_vol[peso_mod_vol]\n",
    "\n",
    "\n",
    "\n"
   ]
  },
  {
   "cell_type": "code",
   "execution_count": 16,
   "id": "070f9d29",
   "metadata": {},
   "outputs": [
    {
     "name": "stdout",
     "output_type": "stream",
     "text": [
      "['Fiesta' 'Fiesta' 'Focus' 'Mondeo' 'B-Max']\n",
      "94\n",
      "CO2 Maximo 120\n",
      "CO2 Minimo 90\n",
      "Marcas con el CO2 Minimo ['Fiat' 'Skoda']\n",
      "Marcas con el CO2 Maximo ['Mercedes']\n"
     ]
    }
   ],
   "source": [
    "ford = np.where(coches=='Ford')\n",
    "mod_ford = modelos[ford]\n",
    "print(mod_ford)\n",
    "\n",
    "co2 = data['CO2']\n",
    "co2_ford = co2[ford]\n",
    "min_co2_ford = np.min(co2_ford)\n",
    "print(min_co2_ford)\n",
    "\n",
    "min_co2 = np.min(co2)\n",
    "print(f\"CO2 Maximo {max_co2}\")\n",
    "max_co2 = np.max(co2)\n",
    "print(f\"CO2 Minimo {min_co2}\")\n",
    "\n",
    "min_marca = coches[co2 == min_co2]\n",
    "max_marca = coches[co2 == max_co2]\n",
    "print(f\"Marcas con el CO2 Minimo {min_marca}\")\n",
    "print(f\"Marcas con el CO2 Maximo {max_marca}\")"
   ]
  },
  {
   "cell_type": "code",
   "execution_count": null,
   "id": "ea2a765a",
   "metadata": {},
   "outputs": [],
   "source": []
  }
 ],
 "metadata": {
  "kernelspec": {
   "display_name": "Python 3 (ipykernel)",
   "language": "python",
   "name": "python3"
  },
  "language_info": {
   "codemirror_mode": {
    "name": "ipython",
    "version": 3
   },
   "file_extension": ".py",
   "mimetype": "text/x-python",
   "name": "python",
   "nbconvert_exporter": "python",
   "pygments_lexer": "ipython3",
   "version": "3.9.12"
  }
 },
 "nbformat": 4,
 "nbformat_minor": 5
}
