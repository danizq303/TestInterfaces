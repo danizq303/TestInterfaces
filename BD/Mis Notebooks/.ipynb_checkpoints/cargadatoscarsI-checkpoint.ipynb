{
 "cells": [
  {
   "cell_type": "code",
   "execution_count": 1,
   "id": "4ec079b8",
   "metadata": {},
   "outputs": [],
   "source": [
    "import numpy as np"
   ]
  },
  {
   "cell_type": "code",
   "execution_count": 2,
   "id": "bfaf0d8e",
   "metadata": {},
   "outputs": [],
   "source": [
    "data = np.genfromtxt(\"/Users/rociogutierrez/Downloads/cars2.csv\",delimiter=',',dtype=None,names=True,encoding='utf-8')"
   ]
  },
  {
   "cell_type": "code",
   "execution_count": 3,
   "id": "c9ef91d5",
   "metadata": {},
   "outputs": [
    {
     "data": {
      "text/plain": [
       "('Car', 'Model', 'Volume', 'Weight', 'CO2')"
      ]
     },
     "execution_count": 3,
     "metadata": {},
     "output_type": "execute_result"
    }
   ],
   "source": [
    "data.dtype.names\n"
   ]
  },
  {
   "cell_type": "code",
   "execution_count": 4,
   "id": "1f511efb",
   "metadata": {},
   "outputs": [
    {
     "data": {
      "text/plain": [
       "36"
      ]
     },
     "execution_count": 4,
     "metadata": {},
     "output_type": "execute_result"
    }
   ],
   "source": [
    "data['Car'].size"
   ]
  },
  {
   "cell_type": "code",
   "execution_count": 5,
   "id": "5bde147d",
   "metadata": {},
   "outputs": [
    {
     "data": {
      "text/plain": [
       "array(['Toyoty', 'Mitsubishi', 'Skoda', 'Fiat', 'Mini', 'VW', 'Skoda',\n",
       "       'Mercedes', 'Ford', 'Audi', 'Hyundai', 'Suzuki', 'Ford', 'Honda',\n",
       "       'Hundai', 'Opel', 'BMW', 'Mazda', 'Skoda', 'Ford', 'Ford', 'Opel',\n",
       "       'Mercedes', 'Skoda', 'Volvo', 'Mercedes', 'Audi', 'Audi', 'Volvo',\n",
       "       'BMW', 'Mercedes', 'Volvo', 'Ford', 'BMW', 'Opel', 'Mercedes'],\n",
       "      dtype='<U10')"
      ]
     },
     "execution_count": 5,
     "metadata": {},
     "output_type": "execute_result"
    }
   ],
   "source": [
    "data['Car']"
   ]
  },
  {
   "cell_type": "code",
   "execution_count": 6,
   "id": "d11590a8",
   "metadata": {},
   "outputs": [
    {
     "data": {
      "text/plain": [
       "array(['A-Class', 'C-Class', 'CLA', 'E-Class', 'SLK'], dtype='<U10')"
      ]
     },
     "execution_count": 6,
     "metadata": {},
     "output_type": "execute_result"
    }
   ],
   "source": [
    "#Mostrar los modelos de la marca \"Mercedes\"\n",
    "coches = data['Car']\n",
    "mercedes = np.where(coches=='Mercedes')\n",
    "modelos = data['Model']\n",
    "modelos[mercedes]"
   ]
  },
  {
   "cell_type": "code",
   "execution_count": 7,
   "id": "e8dcafbe",
   "metadata": {},
   "outputs": [
    {
     "name": "stdout",
     "output_type": "stream",
     "text": [
      "[1.5 2.1 1.5 2.1 2.5]\n"
     ]
    },
    {
     "data": {
      "text/plain": [
       "array(['C-Class', 'E-Class', 'SLK'], dtype='<U10')"
      ]
     },
     "execution_count": 7,
     "metadata": {},
     "output_type": "execute_result"
    }
   ],
   "source": [
    "volumen = data['Volume']\n",
    "#volumen de los coches mercedes\n",
    "print(volumen[mercedes])\n",
    "mod = modelos[mercedes]\n",
    "#Modelos de coches de la marca Mercedes dónde el volumen es >= 2.1\n",
    "mod[np.where(volumen[mercedes]>=2.1)]\n"
   ]
  },
  {
   "cell_type": "code",
   "execution_count": 21,
   "id": "0361da21",
   "metadata": {},
   "outputs": [
    {
     "name": "stdout",
     "output_type": "stream",
     "text": [
      "Modelos de Mercedes con volumen >=2.1\n",
      "\n",
      "['C-Class' 'E-Class' 'SLK']\n",
      "Pesos de coches Mercedes con volumen >=2.1\n",
      "\n",
      "[1365 1605 1395]\n",
      "Índices de los pesos menores de 1500 en modelos Mercedes con volumen >=2.1\n",
      "(array([0, 2]),)\n"
     ]
    },
    {
     "data": {
      "text/plain": [
       "array(['C-Class', 'SLK'], dtype='<U10')"
      ]
     },
     "execution_count": 21,
     "metadata": {},
     "output_type": "execute_result"
    }
   ],
   "source": [
    "#Modelos de coches de la marca Mercedes dónde el volumen es >= 2.1 y su peso sea < 1500\n",
    "\n",
    "vol = np.where(volumen[mercedes]>=2.1)\n",
    "print(\"Modelos de Mercedes con volumen >=2.1\\n\")\n",
    "print(mod[vol])\n",
    "mod_vol = mod[vol]\n",
    "\n",
    "peso = data['Weight']\n",
    "peso_mercedes = peso[mercedes]\n",
    "peso_mercedes_vol = peso_mercedes[vol]\n",
    "print(\"Pesos de coches Mercedes con volumen >=2.1\\n\")\n",
    "print(peso_mercedes_vol)\n",
    "\n",
    "peso_mod_vol = np.where(peso_mercedes_vol<1500)\n",
    "print(\"Índices de los pesos menores de 1500 en modelos Mercedes con volumen >=2.1\")\n",
    "print(peso_mod_vol)\n",
    "mod_vol[peso_mod_vol]\n",
    "\n",
    "\n",
    "\n"
   ]
  },
  {
   "cell_type": "code",
   "execution_count": 1,
   "id": "070f9d29",
   "metadata": {},
   "outputs": [
    {
     "ename": "NameError",
     "evalue": "name 'np' is not defined",
     "output_type": "error",
     "traceback": [
      "\u001b[1;31m---------------------------------------------------------------------------\u001b[0m",
      "\u001b[1;31mNameError\u001b[0m                                 Traceback (most recent call last)",
      "Input \u001b[1;32mIn [1]\u001b[0m, in \u001b[0;36m<cell line: 1>\u001b[1;34m()\u001b[0m\n\u001b[1;32m----> 1\u001b[0m ford \u001b[38;5;241m=\u001b[39m \u001b[43mnp\u001b[49m\u001b[38;5;241m.\u001b[39mwhere(coches\u001b[38;5;241m==\u001b[39m\u001b[38;5;124m'\u001b[39m\u001b[38;5;124mFord\u001b[39m\u001b[38;5;124m'\u001b[39m)\n\u001b[0;32m      2\u001b[0m ford\n\u001b[0;32m      3\u001b[0m mod_ford \u001b[38;5;241m=\u001b[39m modelos[ford]\n",
      "\u001b[1;31mNameError\u001b[0m: name 'np' is not defined"
     ]
    }
   ],
   "source": [
    "ford = np.where(coches=='Ford')\n",
    "ford\n",
    "mod_ford = modelos[ford]\n",
    "print(mod_ford)"
   ]
  },
  {
   "cell_type": "code",
   "execution_count": null,
   "id": "ea2a765a",
   "metadata": {},
   "outputs": [],
   "source": []
  }
 ],
 "metadata": {
  "kernelspec": {
   "display_name": "Python 3 (ipykernel)",
   "language": "python",
   "name": "python3"
  },
  "language_info": {
   "codemirror_mode": {
    "name": "ipython",
    "version": 3
   },
   "file_extension": ".py",
   "mimetype": "text/x-python",
   "name": "python",
   "nbconvert_exporter": "python",
   "pygments_lexer": "ipython3",
   "version": "3.9.12"
  }
 },
 "nbformat": 4,
 "nbformat_minor": 5
}
